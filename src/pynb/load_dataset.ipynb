{
 "cells": [
  {
   "cell_type": "code",
   "execution_count": 18,
   "metadata": {},
   "outputs": [],
   "source": [
    "import tensorflow as tf\n",
    "import pandas as pd"
   ]
  },
  {
   "cell_type": "code",
   "execution_count": 13,
   "metadata": {},
   "outputs": [],
   "source": [
    "dataset = tf.data.experimental.make_csv_dataset(\n",
    "    '../../data/external/london_houses_data.csv',\n",
    "    batch_size=32,\n",
    "    num_epochs=1,\n",
    "    label_name='history_price'\n",
    ")"
   ]
  },
  {
   "cell_type": "code",
   "execution_count": 14,
   "metadata": {},
   "outputs": [
    {
     "name": "stderr",
     "output_type": "stream",
     "text": [
      "2025-01-28 08:47:22.126291: I tensorflow/core/framework/local_rendezvous.cc:405] Local rendezvous is aborting with status: OUT_OF_RANGE: End of sequence\n"
     ]
    }
   ],
   "source": [
    "num_examples = sum(1 for _ in dataset)\n",
    "part_size = num_examples // 7"
   ]
  },
  {
   "cell_type": "code",
   "execution_count": 15,
   "metadata": {},
   "outputs": [],
   "source": [
    "parts = []\n",
    "\n",
    "for i in range(7):\n",
    "    start = i * part_size\n",
    "    end = (i + 1) * part_size\n",
    "    part = dataset.skip(start).take(end - start)\n",
    "    parts.append(part)"
   ]
  },
  {
   "cell_type": "code",
   "execution_count": 19,
   "metadata": {},
   "outputs": [
    {
     "name": "stderr",
     "output_type": "stream",
     "text": [
      "2025-01-28 08:54:15.197073: I tensorflow/core/framework/local_rendezvous.cc:405] Local rendezvous is aborting with status: OUT_OF_RANGE: End of sequence\n",
      "2025-01-28 08:54:50.892047: I tensorflow/core/framework/local_rendezvous.cc:405] Local rendezvous is aborting with status: OUT_OF_RANGE: End of sequence\n"
     ]
    }
   ],
   "source": [
    "for i, part in enumerate(parts):\n",
    "    data = []\n",
    "    for features in part:\n",
    "        data.append(features)\n",
    "    df = pd.DataFrame(data)\n",
    "\n",
    "\n",
    "    df.to_csv(f\"../../data/processed/train_data_{i}.csv\", index=False)"
   ]
  },
  {
   "cell_type": "code",
   "execution_count": 20,
   "metadata": {},
   "outputs": [],
   "source": [
    "train_filepaths = '../../data/processed/train_data_*.csv'"
   ]
  },
  {
   "cell_type": "code",
   "execution_count": 21,
   "metadata": {},
   "outputs": [],
   "source": [
    "filepath_dataset = tf.data.Dataset.list_files(\n",
    "    train_filepaths,\n",
    "    seed=42\n",
    ")"
   ]
  },
  {
   "cell_type": "code",
   "execution_count": 22,
   "metadata": {},
   "outputs": [
    {
     "data": {
      "text/plain": [
       "<_ShuffleDataset element_spec=TensorSpec(shape=(), dtype=tf.string, name=None)>"
      ]
     },
     "execution_count": 22,
     "metadata": {},
     "output_type": "execute_result"
    }
   ],
   "source": [
    "filepath_dataset"
   ]
  },
  {
   "cell_type": "code",
   "execution_count": 23,
   "metadata": {},
   "outputs": [
    {
     "name": "stdout",
     "output_type": "stream",
     "text": [
      "tf.Tensor(b'../../data/processed/train_data_5.csv', shape=(), dtype=string)\n",
      "tf.Tensor(b'../../data/processed/train_data_6.csv', shape=(), dtype=string)\n",
      "tf.Tensor(b'../../data/processed/train_data_3.csv', shape=(), dtype=string)\n",
      "tf.Tensor(b'../../data/processed/train_data_2.csv', shape=(), dtype=string)\n",
      "tf.Tensor(b'../../data/processed/train_data_4.csv', shape=(), dtype=string)\n",
      "tf.Tensor(b'../../data/processed/train_data_0.csv', shape=(), dtype=string)\n",
      "tf.Tensor(b'../../data/processed/train_data_1.csv', shape=(), dtype=string)\n"
     ]
    }
   ],
   "source": [
    "for i in filepath_dataset:\n",
    "    print(i)"
   ]
  },
  {
   "cell_type": "code",
   "execution_count": 24,
   "metadata": {},
   "outputs": [],
   "source": [
    "n_readers = 5\n",
    "dataset = filepath_dataset.interleave(\n",
    "    lambda filepath: tf.data.TextLineDataset(filepath).skip(1),\n",
    "    cycle_length=n_readers\n",
    ")"
   ]
  },
  {
   "cell_type": "code",
   "execution_count": 25,
   "metadata": {},
   "outputs": [
    {
     "name": "stdout",
     "output_type": "stream",
     "text": [
      "b'\"OrderedDict([(\\'fullAddress\\', <tf.Tensor: shape=(32,), dtype=string, numpy='\n",
      "b'\"OrderedDict([(\\'fullAddress\\', <tf.Tensor: shape=(32,), dtype=string, numpy='\n",
      "b'\"OrderedDict([(\\'fullAddress\\', <tf.Tensor: shape=(32,), dtype=string, numpy='\n",
      "b'\"OrderedDict([(\\'fullAddress\\', <tf.Tensor: shape=(32,), dtype=string, numpy='\n",
      "b'\"OrderedDict([(\\'fullAddress\\', <tf.Tensor: shape=(32,), dtype=string, numpy='\n"
     ]
    }
   ],
   "source": [
    "for line in dataset.take(5):\n",
    "    print(line.numpy())"
   ]
  },
  {
   "cell_type": "code",
   "execution_count": null,
   "metadata": {},
   "outputs": [],
   "source": []
  }
 ],
 "metadata": {
  "kernelspec": {
   "display_name": "env",
   "language": "python",
   "name": "python3"
  },
  "language_info": {
   "codemirror_mode": {
    "name": "ipython",
    "version": 3
   },
   "file_extension": ".py",
   "mimetype": "text/x-python",
   "name": "python",
   "nbconvert_exporter": "python",
   "pygments_lexer": "ipython3",
   "version": "3.11.2"
  }
 },
 "nbformat": 4,
 "nbformat_minor": 2
}
